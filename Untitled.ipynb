{
 "cells": [
  {
   "cell_type": "code",
   "execution_count": 1,
   "id": "304a1674",
   "metadata": {},
   "outputs": [],
   "source": [
    "#  welcome to numpy"
   ]
  },
  {
   "cell_type": "code",
   "execution_count": 2,
   "id": "c2279f29",
   "metadata": {},
   "outputs": [],
   "source": [
    "import numpy as np"
   ]
  },
  {
   "cell_type": "code",
   "execution_count": 3,
   "id": "d77cd289",
   "metadata": {},
   "outputs": [],
   "source": [
    "myarray= np.array([[2,5,6,8,6]], np.int64)"
   ]
  },
  {
   "cell_type": "code",
   "execution_count": 4,
   "id": "1afe79ce",
   "metadata": {},
   "outputs": [
    {
     "data": {
      "text/plain": [
       "array([[2, 5, 6, 8, 6]], dtype=int64)"
      ]
     },
     "execution_count": 4,
     "metadata": {},
     "output_type": "execute_result"
    }
   ],
   "source": [
    "myarray"
   ]
  },
  {
   "cell_type": "code",
   "execution_count": 5,
   "id": "6928aa98",
   "metadata": {},
   "outputs": [
    {
     "data": {
      "text/plain": [
       "8"
      ]
     },
     "execution_count": 5,
     "metadata": {},
     "output_type": "execute_result"
    }
   ],
   "source": [
    "myarray[0,3]"
   ]
  },
  {
   "cell_type": "code",
   "execution_count": 6,
   "id": "8520e0e5",
   "metadata": {},
   "outputs": [
    {
     "data": {
      "text/plain": [
       "(1, 5)"
      ]
     },
     "execution_count": 6,
     "metadata": {},
     "output_type": "execute_result"
    }
   ],
   "source": [
    "myarray.shape"
   ]
  },
  {
   "cell_type": "code",
   "execution_count": 7,
   "id": "be17714d",
   "metadata": {},
   "outputs": [
    {
     "data": {
      "text/plain": [
       "dtype('int64')"
      ]
     },
     "execution_count": 7,
     "metadata": {},
     "output_type": "execute_result"
    }
   ],
   "source": [
    "myarray.dtype"
   ]
  },
  {
   "cell_type": "code",
   "execution_count": 8,
   "id": "338efc23",
   "metadata": {},
   "outputs": [],
   "source": [
    "a = np.arange(6,22,2)"
   ]
  },
  {
   "cell_type": "code",
   "execution_count": 9,
   "id": "f8b1b8bd",
   "metadata": {},
   "outputs": [
    {
     "data": {
      "text/plain": [
       "array([ 6,  8, 10, 12, 14, 16, 18, 20])"
      ]
     },
     "execution_count": 9,
     "metadata": {},
     "output_type": "execute_result"
    }
   ],
   "source": [
    "a"
   ]
  },
  {
   "cell_type": "code",
   "execution_count": 10,
   "id": "70611fec",
   "metadata": {},
   "outputs": [],
   "source": [
    "a2 = a[np.newaxis, :]"
   ]
  },
  {
   "cell_type": "code",
   "execution_count": 11,
   "id": "082ae252",
   "metadata": {},
   "outputs": [
    {
     "data": {
      "text/plain": [
       "array([[ 6,  8, 10, 12, 14, 16, 18, 20]])"
      ]
     },
     "execution_count": 11,
     "metadata": {},
     "output_type": "execute_result"
    }
   ],
   "source": [
    "a2"
   ]
  },
  {
   "cell_type": "code",
   "execution_count": 12,
   "id": "3df2de67",
   "metadata": {},
   "outputs": [
    {
     "data": {
      "text/plain": [
       "array([0., 0., 0.])"
      ]
     },
     "execution_count": 12,
     "metadata": {},
     "output_type": "execute_result"
    }
   ],
   "source": [
    "np.zeros(3)"
   ]
  },
  {
   "cell_type": "code",
   "execution_count": 13,
   "id": "9c354157",
   "metadata": {},
   "outputs": [
    {
     "data": {
      "text/plain": [
       "array([4.67296746e-307, 1.69121096e-306, 1.33511290e-306, 6.23058368e-307,\n",
       "       8.45593934e-307, 7.56593017e-307, 1.11261027e-306, 1.11261502e-306,\n",
       "       1.42410839e-306, 7.56597770e-307, 6.23059726e-307, 1.42419530e-306,\n",
       "       7.56602523e-307, 1.29061821e-306, 1.60221072e-306, 8.34445138e-308,\n",
       "       1.39071445e-307, 1.33511562e-306, 8.90103560e-307, 1.42410974e-306,\n",
       "       3.23796840e-317])"
      ]
     },
     "execution_count": 13,
     "metadata": {},
     "output_type": "execute_result"
    }
   ],
   "source": [
    "np.empty(21)"
   ]
  },
  {
   "cell_type": "code",
   "execution_count": 14,
   "id": "f5efdcba",
   "metadata": {},
   "outputs": [],
   "source": [
    "aa = np.array([1, 2, 3, 4])\n",
    "ba = np.array([5, 6, 7, 8])"
   ]
  },
  {
   "cell_type": "code",
   "execution_count": 15,
   "id": "8881a8a0",
   "metadata": {},
   "outputs": [
    {
     "data": {
      "text/plain": [
       "array([1, 2, 3, 4, 5, 6, 7, 8])"
      ]
     },
     "execution_count": 15,
     "metadata": {},
     "output_type": "execute_result"
    }
   ],
   "source": [
    "np.concatenate((aa, ba))"
   ]
  },
  {
   "cell_type": "code",
   "execution_count": 16,
   "id": "ccabd282",
   "metadata": {},
   "outputs": [],
   "source": [
    "new=np.array([[3,6,4,],[6,8,9],[5,8,9]])"
   ]
  },
  {
   "cell_type": "code",
   "execution_count": 17,
   "id": "ce2df3f7",
   "metadata": {},
   "outputs": [
    {
     "data": {
      "text/plain": [
       "array([[3, 6, 4],\n",
       "       [6, 8, 9],\n",
       "       [5, 8, 9]])"
      ]
     },
     "execution_count": 17,
     "metadata": {},
     "output_type": "execute_result"
    }
   ],
   "source": [
    "new"
   ]
  },
  {
   "cell_type": "code",
   "execution_count": 18,
   "id": "ae2e0024",
   "metadata": {},
   "outputs": [],
   "source": [
    "zz=np.zeros(22)"
   ]
  },
  {
   "cell_type": "code",
   "execution_count": 19,
   "id": "a1c7ac4f",
   "metadata": {},
   "outputs": [
    {
     "data": {
      "text/plain": [
       "array([0., 0., 0., 0., 0., 0., 0., 0., 0., 0., 0., 0., 0., 0., 0., 0., 0.,\n",
       "       0., 0., 0., 0., 0.])"
      ]
     },
     "execution_count": 19,
     "metadata": {},
     "output_type": "execute_result"
    }
   ],
   "source": [
    "zz"
   ]
  },
  {
   "cell_type": "code",
   "execution_count": 20,
   "id": "78218c17",
   "metadata": {},
   "outputs": [],
   "source": [
    "oo=np.ones(22)"
   ]
  },
  {
   "cell_type": "code",
   "execution_count": 21,
   "id": "fc07bc03",
   "metadata": {},
   "outputs": [
    {
     "data": {
      "text/plain": [
       "array([1., 1., 1., 1., 1., 1., 1., 1., 1., 1., 1., 1., 1., 1., 1., 1., 1.,\n",
       "       1., 1., 1., 1., 1.])"
      ]
     },
     "execution_count": 21,
     "metadata": {},
     "output_type": "execute_result"
    }
   ],
   "source": [
    "oo"
   ]
  },
  {
   "cell_type": "code",
   "execution_count": 22,
   "id": "84407a99",
   "metadata": {},
   "outputs": [],
   "source": [
    "range=np.arange(10,30,3)"
   ]
  },
  {
   "cell_type": "code",
   "execution_count": 23,
   "id": "11a4c088",
   "metadata": {},
   "outputs": [
    {
     "data": {
      "text/plain": [
       "array([10, 13, 16, 19, 22, 25, 28])"
      ]
     },
     "execution_count": 23,
     "metadata": {},
     "output_type": "execute_result"
    }
   ],
   "source": [
    "range"
   ]
  },
  {
   "cell_type": "code",
   "execution_count": 24,
   "id": "168875a9",
   "metadata": {},
   "outputs": [
    {
     "ename": "NameError",
     "evalue": "name 'arange' is not defined",
     "output_type": "error",
     "traceback": [
      "\u001b[1;31m---------------------------------------------------------------------------\u001b[0m",
      "\u001b[1;31mNameError\u001b[0m                                 Traceback (most recent call last)",
      "\u001b[1;32m~\\AppData\\Local\\Temp/ipykernel_6724/3134023117.py\u001b[0m in \u001b[0;36m<module>\u001b[1;34m\u001b[0m\n\u001b[1;32m----> 1\u001b[1;33m \u001b[0marange\u001b[0m\u001b[1;33m\u001b[0m\u001b[1;33m\u001b[0m\u001b[0m\n\u001b[0m",
      "\u001b[1;31mNameError\u001b[0m: name 'arange' is not defined"
     ]
    }
   ],
   "source": [
    "arange"
   ]
  },
  {
   "cell_type": "code",
   "execution_count": null,
   "id": "537e8168",
   "metadata": {},
   "outputs": [],
   "source": [
    "lspace=np.linspace(1,10,3)"
   ]
  },
  {
   "cell_type": "code",
   "execution_count": null,
   "id": "fc94dbcd",
   "metadata": {},
   "outputs": [],
   "source": [
    "lspace"
   ]
  },
  {
   "cell_type": "code",
   "execution_count": 25,
   "id": "6b9c2a72",
   "metadata": {},
   "outputs": [],
   "source": [
    "x=[[4,2,3],[4,5,6],[7,5,4]]"
   ]
  },
  {
   "cell_type": "code",
   "execution_count": 26,
   "id": "98002c08",
   "metadata": {},
   "outputs": [],
   "source": [
    "xa=np.array(x)"
   ]
  },
  {
   "cell_type": "code",
   "execution_count": 27,
   "id": "34804518",
   "metadata": {},
   "outputs": [
    {
     "data": {
      "text/plain": [
       "array([[4, 2, 3],\n",
       "       [4, 5, 6],\n",
       "       [7, 5, 4]])"
      ]
     },
     "execution_count": 27,
     "metadata": {},
     "output_type": "execute_result"
    }
   ],
   "source": [
    "xa"
   ]
  },
  {
   "cell_type": "code",
   "execution_count": 29,
   "id": "fffe140c",
   "metadata": {},
   "outputs": [
    {
     "data": {
      "text/plain": [
       "array([ 9, 15, 16])"
      ]
     },
     "execution_count": 29,
     "metadata": {},
     "output_type": "execute_result"
    }
   ],
   "source": [
    "xa.sum(axis=1)"
   ]
  },
  {
   "cell_type": "code",
   "execution_count": null,
   "id": "f00d1928",
   "metadata": {},
   "outputs": [],
   "source": []
  }
 ],
 "metadata": {
  "kernelspec": {
   "display_name": "Python 3 (ipykernel)",
   "language": "python",
   "name": "python3"
  },
  "language_info": {
   "codemirror_mode": {
    "name": "ipython",
    "version": 3
   },
   "file_extension": ".py",
   "mimetype": "text/x-python",
   "name": "python",
   "nbconvert_exporter": "python",
   "pygments_lexer": "ipython3",
   "version": "3.9.7"
  }
 },
 "nbformat": 4,
 "nbformat_minor": 5
}
